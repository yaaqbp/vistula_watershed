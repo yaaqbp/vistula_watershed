{
 "cells": [
  {
   "cell_type": "code",
   "execution_count": 2,
   "id": "c75b36d4",
   "metadata": {},
   "outputs": [],
   "source": [
    "import numpy as np\n",
    "import pandas as pd\n",
    "import matplotlib.pyplot as plt\n",
    "\n",
    "import cv2\n",
    "\n",
    "from PIL import Image\n",
    "from PIL import ImageOps\n",
    "\n",
    "%matplotlib inline\n",
    "from gpx_converter import Converter\n"
   ]
  },
  {
   "cell_type": "code",
   "execution_count": 58,
   "id": "00d87ac6",
   "metadata": {},
   "outputs": [],
   "source": [
    "watershed = cv2.imread('linia_2.jpg',0)"
   ]
  },
  {
   "cell_type": "code",
   "execution_count": 134,
   "id": "09f4aff1",
   "metadata": {},
   "outputs": [],
   "source": [
    "img = cv2.imread('mapa.jpg').astype(np.float32)\n",
    "#img = img[:480,:880]"
   ]
  },
  {
   "cell_type": "markdown",
   "id": "ab69acd8",
   "metadata": {},
   "source": [
    "plt.figure(figsize=(40, 40), dpi=80)\n",
    "plt.imshow(img, cmap = 'gray')\n",
    "ax = plt.gca()\n",
    "ax.set_xticks(np.arange(0,img.shape[1],2))\n",
    "ax.set_yticks(np.arange(0,img.shape[0],2))\n",
    "ax.grid(color='red', linestyle='-.', linewidth=1)\n",
    "#ax.xaxis.tick_top()\n",
    "ax.yaxis.tick_right()\n",
    "ax.set_xticks(ax.get_xticks()[::2])\n",
    "ax.set_yticks(ax.get_yticks()[::2])\n",
    "for tick in ax.get_xticklabels():\n",
    "    tick.set_rotation(90)\n",
    "plt.savefig('foo.png')\n",
    "plt.show()"
   ]
  },
  {
   "cell_type": "code",
   "execution_count": 60,
   "id": "e375b3cb",
   "metadata": {},
   "outputs": [
    {
     "data": {
      "text/plain": [
       "<matplotlib.image.AxesImage at 0x7fdf1f1d06d0>"
      ]
     },
     "execution_count": 60,
     "metadata": {},
     "output_type": "execute_result"
    },
    {
     "data": {
      "image/png": "[encoded data removed]",
      "text/plain": [
       "<Figure size 432x288 with 1 Axes>"
      ]
     },
     "metadata": {
      "needs_background": "light"
     },
     "output_type": "display_data"
    }
   ],
   "source": [
    "plt.imshow(watershed[220:250, 280:300])"
   ]
  },
  {
   "cell_type": "code",
   "execution_count": 61,
   "id": "3d3e2f8d",
   "metadata": {},
   "outputs": [],
   "source": [
    "river_start = (220+18, 280+16)"
   ]
  },
  {
   "cell_type": "code",
   "execution_count": 62,
   "id": "6620a86b",
   "metadata": {},
   "outputs": [
    {
     "data": {
      "text/plain": [
       "<matplotlib.image.AxesImage at 0x7fdf1f1e3880>"
      ]
     },
     "execution_count": 62,
     "metadata": {},
     "output_type": "execute_result"
    },
    {
     "data": {
      "image/png": "[encoded data removed]",
      "text/plain": [
       "<Figure size 432x288 with 1 Axes>"
      ]
     },
     "metadata": {
      "needs_background": "light"
     },
     "output_type": "display_data"
    }
   ],
   "source": [
    "plt.imshow(watershed[850:880, 450:480])"
   ]
  },
  {
   "cell_type": "code",
   "execution_count": 63,
   "id": "4210f854",
   "metadata": {},
   "outputs": [],
   "source": [
    "river_end = 850+18, 450+10"
   ]
  },
  {
   "cell_type": "code",
   "execution_count": 64,
   "id": "c73d496b",
   "metadata": {},
   "outputs": [],
   "source": [
    "import tcod\n",
    "graph = tcod.path.CustomGraph(watershed.shape)\n",
    "CARDINAL = [\n",
    "     [1, 1, 1],\n",
    "     [1, 0, 1],\n",
    "     [1, 1, 1],]"
   ]
  },
  {
   "cell_type": "code",
   "execution_count": 65,
   "id": "251d31d7",
   "metadata": {},
   "outputs": [],
   "source": [
    "graph.add_edges(edge_map=CARDINAL, cost=watershed)\n",
    "pf = tcod.path.Pathfinder(graph)\n",
    "pf.add_root(river_start)\n",
    "pf.resolve()\n",
    "pf.distance\n",
    "\n",
    "path = pf.path_to(river_end)"
   ]
  },
  {
   "cell_type": "code",
   "execution_count": 68,
   "id": "6cd3936f",
   "metadata": {},
   "outputs": [
    {
     "data": {
      "text/plain": [
       "862"
      ]
     },
     "execution_count": 68,
     "metadata": {},
     "output_type": "execute_result"
    }
   ],
   "source": [
    "len(path)"
   ]
  },
  {
   "cell_type": "code",
   "execution_count": 90,
   "id": "af9b4411",
   "metadata": {},
   "outputs": [],
   "source": [
    "hel = (54.595659, 18.809465)\n",
    "hel_pix = (142, 450)\n",
    "\n",
    "bug = (52.283175, 23.178295)\n",
    "bug_pix = (466, 824)"
   ]
  },
  {
   "cell_type": "code",
   "execution_count": 192,
   "id": "92829c09",
   "metadata": {},
   "outputs": [
    {
     "data": {
      "text/plain": [
       "-0.007137296296296289"
      ]
     },
     "execution_count": 192,
     "metadata": {},
     "output_type": "execute_result"
    }
   ],
   "source": [
    "step_y = (hel[0]-bug[0])/(hel_pix[0]-bug_pix[0])\n",
    "step_y"
   ]
  },
  {
   "cell_type": "code",
   "execution_count": 193,
   "id": "180788f0",
   "metadata": {},
   "outputs": [
    {
     "data": {
      "text/plain": [
       "0.011681363636363634"
      ]
     },
     "execution_count": 193,
     "metadata": {},
     "output_type": "execute_result"
    }
   ],
   "source": [
    "step_x = (hel[1]-bug[1])/(hel_pix[1]-bug_pix[1])\n",
    "step_x"
   ]
  },
  {
   "cell_type": "code",
   "execution_count": 117,
   "id": "19f8a267",
   "metadata": {},
   "outputs": [],
   "source": [
    "start = hel[0]-hel_pix[0]*step_x, hel[1]-hel_pix[1]*step_y"
   ]
  },
  {
   "cell_type": "code",
   "execution_count": 118,
   "id": "2f4bc2d3",
   "metadata": {},
   "outputs": [
    {
     "data": {
      "text/plain": [
       "(55.60915507407407, 13.552851363636364)"
      ]
     },
     "execution_count": 118,
     "metadata": {},
     "output_type": "execute_result"
    }
   ],
   "source": []
  },
  {
   "cell_type": "code",
   "execution_count": 112,
   "id": "c1ef3ee4",
   "metadata": {},
   "outputs": [
    {
     "data": {
      "text/plain": [
       "(52.283175, 23.178295)"
      ]
     },
     "execution_count": 112,
     "metadata": {},
     "output_type": "execute_result"
    }
   ],
   "source": [
    "hel[0]+(bug_pix[0]-hel_pix[0])*step_x, hel[1]+(bug_pix[1]-hel_pix[1])*step_y"
   ]
  },
  {
   "cell_type": "code",
   "execution_count": null,
   "id": "3cf64017",
   "metadata": {},
   "outputs": [],
   "source": []
  },
  {
   "cell_type": "code",
   "execution_count": null,
   "id": "517d5336",
   "metadata": {},
   "outputs": [],
   "source": [
    "start = hel[0]-hel_pix[0]*step_x, hel[1]-hel_pix[1]*step_y"
   ]
  },
  {
   "cell_type": "code",
   "execution_count": 154,
   "id": "67dd7614",
   "metadata": {},
   "outputs": [],
   "source": [
    "start = bug[0]-bug_pix[0]*step_x, bug[1]-bug_pix[1]*step_y"
   ]
  },
  {
   "cell_type": "code",
   "execution_count": 155,
   "id": "486abafc",
   "metadata": {},
   "outputs": [
    {
     "data": {
      "text/plain": [
       "(55.60915507407407, 13.552851363636364)"
      ]
     },
     "execution_count": 155,
     "metadata": {},
     "output_type": "execute_result"
    }
   ],
   "source": [
    "start"
   ]
  },
  {
   "cell_type": "code",
   "execution_count": 156,
   "id": "37b3c6d0",
   "metadata": {},
   "outputs": [
    {
     "data": {
      "text/plain": [
       "array([[238, 296],\n",
       "       [239, 296],\n",
       "       [240, 297],\n",
       "       ...,\n",
       "       [866, 460],\n",
       "       [867, 460],\n",
       "       [868, 460]], dtype=int32)"
      ]
     },
     "execution_count": 156,
     "metadata": {},
     "output_type": "execute_result"
    }
   ],
   "source": [
    "path"
   ]
  },
  {
   "cell_type": "code",
   "execution_count": 200,
   "id": "7af9020b",
   "metadata": {},
   "outputs": [],
   "source": [
    "latitude = start[0]+path[:,0]*step_y\n",
    "longitude = start[1]+path[:,1]*step_x\n",
    "\n",
    "dct = {'latitude':latitude, 'longitude':longitude}\n",
    "pd.DataFrame(dct).to_csv('vol_2.csv', index = False)\n"
   ]
  },
  {
   "cell_type": "code",
   "execution_count": 201,
   "id": "eea94821",
   "metadata": {},
   "outputs": [
    {
     "data": {
      "text/plain": [
       "True"
      ]
     },
     "execution_count": 201,
     "metadata": {},
     "output_type": "execute_result"
    }
   ],
   "source": [
    "Converter(input_file='vol_2.csv').csv_to_gpx(lats_colname='latitude',\n",
    "                                                 longs_colname='longitude',\n",
    "                                                 output_file='vol_2.gpx')"
   ]
  },
  {
   "cell_type": "code",
   "execution_count": null,
   "id": "5e07fbf6",
   "metadata": {},
   "outputs": [],
   "source": []
  }
 ],
 "metadata": {
  "kernelspec": {
   "display_name": "Python 3 (ipykernel)",
   "language": "python",
   "name": "python3"
  },
  "language_info": {
   "codemirror_mode": {
    "name": "ipython",
    "version": 3
   },
   "file_extension": ".py",
   "mimetype": "text/x-python",
   "name": "python",
   "nbconvert_exporter": "python",
   "pygments_lexer": "ipython3",
   "version": "3.8.12"
  }
 },
 "nbformat": 4,
 "nbformat_minor": 5
}
